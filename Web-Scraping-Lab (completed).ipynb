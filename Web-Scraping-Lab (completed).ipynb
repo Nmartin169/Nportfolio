{
 "cells": [
  {
   "cell_type": "markdown",
   "metadata": {},
   "source": [
    "<p style=\"text-align:center\">\n",
    "    <a href=\"https://skills.network/?utm_medium=Exinfluencer&utm_source=Exinfluencer&utm_content=000026UJ&utm_term=10006555&utm_id=NA-SkillsNetwork-Channel-SkillsNetworkCoursesIBMDA0321ENSkillsNetwork928-2022-01-01\" target=\"_blank\">\n",
    "    <img src=\"https://cf-courses-data.s3.us.cloud-object-storage.appdomain.cloud/assets/logos/SN_web_lightmode.png\" width=\"200\" alt=\"Skills Network Logo\"  />\n",
    "    </a>\n",
    "</p>\n"
   ]
  },
  {
   "cell_type": "markdown",
   "metadata": {},
   "source": [
    "# **Hands-on Lab : Web Scraping**\n"
   ]
  },
  {
   "cell_type": "markdown",
   "metadata": {},
   "source": [
    "Estimated time needed: **30 to 45** minutes\n"
   ]
  },
  {
   "cell_type": "markdown",
   "metadata": {},
   "source": [
    "## Objectives\n"
   ]
  },
  {
   "cell_type": "markdown",
   "metadata": {},
   "source": [
    "In this lab you will perform the following:\n"
   ]
  },
  {
   "cell_type": "markdown",
   "metadata": {},
   "source": [
    "* Extract information from a given web site \n",
    "* Write the scraped data into a csv file.\n"
   ]
  },
  {
   "cell_type": "markdown",
   "metadata": {},
   "source": [
    "## Extract information from the given web site\n",
    "You will extract the data from the below web site: <br> \n"
   ]
  },
  {
   "cell_type": "code",
   "execution_count": 1,
   "metadata": {},
   "outputs": [],
   "source": [
    "#this url contains the data you need to scrape\n",
    "url = \"https://cf-courses-data.s3.us.cloud-object-storage.appdomain.cloud/IBM-DA0321EN-SkillsNetwork/labs/datasets/Programming_Languages.html\""
   ]
  },
  {
   "cell_type": "markdown",
   "metadata": {},
   "source": [
    "The data you need to scrape is the **name of the programming language** and **average annual salary**.<br> It is a good idea to open the url in your web broswer and study the contents of the web page before you start to scrape.\n"
   ]
  },
  {
   "cell_type": "markdown",
   "metadata": {},
   "source": [
    "Import the required libraries\n"
   ]
  },
  {
   "cell_type": "code",
   "execution_count": 2,
   "metadata": {},
   "outputs": [],
   "source": [
    "# Your code here\n",
    "from bs4 import BeautifulSoup # this module helps in web scrapping.\n",
    "import requests  # this module helps us to download a web page\n",
    "\n"
   ]
  },
  {
   "cell_type": "markdown",
   "metadata": {},
   "source": [
    "Download the webpage at the url\n"
   ]
  },
  {
   "cell_type": "code",
   "execution_count": 3,
   "metadata": {},
   "outputs": [],
   "source": [
    "#your code goes here\n",
    "data  = requests.get(url).text "
   ]
  },
  {
   "cell_type": "markdown",
   "metadata": {},
   "source": [
    "Create a soup object\n"
   ]
  },
  {
   "cell_type": "code",
   "execution_count": 4,
   "metadata": {},
   "outputs": [],
   "source": [
    "#your code goes here\n",
    "soup = BeautifulSoup(data,'html5lib')"
   ]
  },
  {
   "cell_type": "code",
   "execution_count": 5,
   "metadata": {},
   "outputs": [
    {
     "data": {
      "text/plain": [
       "'<!DOCTYPE html>\\n<html lang=\"en\">\\n <head>\\n  <title>\\n   Salary survey results of programming languages\\n  </title>\\n  <style>\\n   table, th, td {\\n  border: 1px solid black;\\n}\\n  </style>\\n </head>\\n <body>\\n  <hr/>\\n  <h2>\\n   Popular Programming Languages\\n  </h2>\\n  <hr/>\\n  <p>\\n   Finding out which is the best language is a tough task. A programming language is created to solve a specific problem. A language which is good for task A may not be able to properly handle task B. Comparing programming language is never easy. What we can do, however, is find which is popular in the industry.\\n  </p>\\n  <p>\\n   There are many ways to find the popularity of a programming languages. Counting the number of google searchs for each language is a simple way to find the popularity. GitHub and StackOverflow also can give some good pointers.\\n  </p>\\n  <p>\\n   Salary surveys are a way to find out the programmings languages that are most in demand in the industry. Below table is the result of one such survey. When using any survey keep in mind that the results vary year on year.\\n  </p>\\n  <hr/>\\n  <table>\\n   <tbody>\\n    <tr>\\n     <td>\\n      No.\\n     </td>\\n     <td>\\n      Language\\n     </td>\\n     <td>\\n      Created By\\n     </td>\\n     <td>\\n      Average Annual Salary\\n     </td>\\n     <td>\\n      Learning Difficulty\\n     </td>\\n    </tr>\\n    <tr>\\n     <td>\\n      1\\n     </td>\\n     <td>\\n      Python\\n     </td>\\n     <td>\\n      Guido van Rossum\\n     </td>\\n     <td>\\n      $114,383\\n     </td>\\n     <td>\\n      Easy\\n     </td>\\n    </tr>\\n    <tr>\\n     <td>\\n      2\\n     </td>\\n     <td>\\n      Java\\n     </td>\\n     <td>\\n      James Gosling\\n     </td>\\n     <td>\\n      $101,013\\n     </td>\\n     <td>\\n      Easy\\n     </td>\\n    </tr>\\n    <tr>\\n     <td>\\n      3\\n     </td>\\n     <td>\\n      R\\n     </td>\\n     <td>\\n      Robert Gentleman, Ross Ihaka\\n     </td>\\n     <td>\\n      $92,037\\n     </td>\\n     <td>\\n      Hard\\n     </td>\\n    </tr>\\n    <tr>\\n     <td>\\n      4\\n     </td>\\n     <td>\\n      Javascript\\n     </td>\\n     <td>\\n      Netscape\\n     </td>\\n     <td>\\n      $110,981\\n     </td>\\n     <td>\\n      Easy\\n     </td>\\n    </tr>\\n    <tr>\\n     <td>\\n      5\\n     </td>\\n     <td>\\n      Swift\\n     </td>\\n     <td>\\n      Apple\\n     </td>\\n     <td>\\n      $130,801\\n     </td>\\n     <td>\\n      Easy\\n     </td>\\n    </tr>\\n    <tr>\\n     <td>\\n      6\\n     </td>\\n     <td>\\n      C++\\n     </td>\\n     <td>\\n      Bjarne Stroustrup\\n     </td>\\n     <td>\\n      $113,865\\n     </td>\\n     <td>\\n      Hard\\n     </td>\\n    </tr>\\n    <tr>\\n     <td>\\n      7\\n     </td>\\n     <td>\\n      C#\\n     </td>\\n     <td>\\n      Microsoft\\n     </td>\\n     <td>\\n      $88,726\\n     </td>\\n     <td>\\n      Hard\\n     </td>\\n    </tr>\\n    <tr>\\n     <td>\\n      8\\n     </td>\\n     <td>\\n      PHP\\n     </td>\\n     <td>\\n      Rasmus Lerdorf\\n     </td>\\n     <td>\\n      $84,727\\n     </td>\\n     <td>\\n      Easy\\n     </td>\\n    </tr>\\n    <tr>\\n     <td>\\n      9\\n     </td>\\n     <td>\\n      SQL\\n     </td>\\n     <td>\\n      Donald D. Chamberlin, Raymond F. Boyce.\\n     </td>\\n     <td>\\n      $84,793\\n     </td>\\n     <td>\\n      Easy\\n     </td>\\n    </tr>\\n    <tr>\\n     <td>\\n      10\\n     </td>\\n     <td>\\n      Go\\n     </td>\\n     <td>\\n      Robert Griesemer, Ken Thompson, Rob Pike.\\n     </td>\\n     <td>\\n      $94,082\\n     </td>\\n     <td>\\n      Difficult\\n     </td>\\n    </tr>\\n   </tbody>\\n  </table>\\n  <hr/>\\n </body>\\n</html>'"
      ]
     },
     "execution_count": 5,
     "metadata": {},
     "output_type": "execute_result"
    }
   ],
   "source": [
    "soup.prettify()"
   ]
  },
  {
   "cell_type": "markdown",
   "metadata": {},
   "source": [
    "Scrape the `Language name` and `annual average salary`.\n"
   ]
  },
  {
   "cell_type": "code",
   "execution_count": 6,
   "metadata": {},
   "outputs": [
    {
     "name": "stdout",
     "output_type": "stream",
     "text": [
      " Language  ----->  Average Annual Salary\n",
      " Python  ----->  $114,383\n",
      " Java  ----->  $101,013\n",
      " R  ----->  $92,037\n",
      " Javascript  ----->  $110,981\n",
      " Swift  ----->  $130,801\n",
      " C++  ----->  $113,865\n",
      " C#  ----->  $88,726\n",
      " PHP  ----->  $84,727\n",
      " SQL  ----->  $84,793\n",
      " Go  ----->  $94,082\n"
     ]
    }
   ],
   "source": [
    "#your code goes here\n",
    "#find a html table in the web page\n",
    "table = soup.find('table')\n",
    "\n",
    "#Get all row from the table\n",
    "for row in table.find_all('tr'): # in html table row is represented by the tag <tr>\n",
    "    \n",
    "    # Get all columns in each row.\n",
    "    cols = row.find_all('td') # in html a column is represented by the tag <td>\n",
    "    Language_name = cols[1].getText() # store the value in column 3 as color_name\n",
    "    annual_average_salary = cols[3].getText() # store the value in column 4 as color_code\n",
    "    data = (Language_name, annual_average_salary)\n",
    "    print(' {}  ----->  {}'.format(Language_name, annual_average_salary) )\n",
    "    "
   ]
  },
  {
   "cell_type": "markdown",
   "metadata": {},
   "source": [
    "Save the scrapped data into a file named *popular-languages.csv*\n"
   ]
  },
  {
   "cell_type": "code",
   "execution_count": 7,
   "metadata": {},
   "outputs": [],
   "source": [
    "# your code goes here\n",
    "\n",
    "from openpyxl import Workbook\n",
    "wb = Workbook() \n",
    "ws = wb.active\n",
    "\n",
    "for row in table.find_all('tr'): # in html table row is represented by the tag <tr>\n",
    "    \n",
    "    # Get all columns in each row.\n",
    "    cols = row.find_all('td') # in html a column is represented by the tag <td>\n",
    "    Language_name = cols[1].getText() # store the value in column 3 as color_name\n",
    "    annual_average_salary = cols[3].getText() # store the value in column 4 as color_code\n",
    "    data = (Language_name, annual_average_salary)\n",
    "    ws.append(data)\n",
    "\n",
    "#save to xlsx\n",
    "wb.save('popular-languages.xlsx')\n",
    "\n",
    "\n",
    "#convert to Dataframe and save to csv:\n",
    "#convert to pandas Dataframe\n",
    "import pandas as pd\n",
    "\n",
    "df = pd.read_excel('popular-languages.xlsx')\n",
    "\n",
    "#save to csv\n",
    "df.to_csv('popular-languages.csv')"
   ]
  },
  {
   "cell_type": "code",
   "execution_count": 8,
   "metadata": {},
   "outputs": [
    {
     "data": {
      "text/html": [
       "<div>\n",
       "<style scoped>\n",
       "    .dataframe tbody tr th:only-of-type {\n",
       "        vertical-align: middle;\n",
       "    }\n",
       "\n",
       "    .dataframe tbody tr th {\n",
       "        vertical-align: top;\n",
       "    }\n",
       "\n",
       "    .dataframe thead th {\n",
       "        text-align: right;\n",
       "    }\n",
       "</style>\n",
       "<table border=\"1\" class=\"dataframe\">\n",
       "  <thead>\n",
       "    <tr style=\"text-align: right;\">\n",
       "      <th></th>\n",
       "      <th>Language</th>\n",
       "      <th>Average Annual Salary</th>\n",
       "    </tr>\n",
       "  </thead>\n",
       "  <tbody>\n",
       "    <tr>\n",
       "      <th>0</th>\n",
       "      <td>Python</td>\n",
       "      <td>$114,383</td>\n",
       "    </tr>\n",
       "    <tr>\n",
       "      <th>1</th>\n",
       "      <td>Java</td>\n",
       "      <td>$101,013</td>\n",
       "    </tr>\n",
       "    <tr>\n",
       "      <th>2</th>\n",
       "      <td>R</td>\n",
       "      <td>$92,037</td>\n",
       "    </tr>\n",
       "    <tr>\n",
       "      <th>3</th>\n",
       "      <td>Javascript</td>\n",
       "      <td>$110,981</td>\n",
       "    </tr>\n",
       "    <tr>\n",
       "      <th>4</th>\n",
       "      <td>Swift</td>\n",
       "      <td>$130,801</td>\n",
       "    </tr>\n",
       "  </tbody>\n",
       "</table>\n",
       "</div>"
      ],
      "text/plain": [
       "     Language Average Annual Salary\n",
       "0      Python              $114,383\n",
       "1        Java              $101,013\n",
       "2           R               $92,037\n",
       "3  Javascript              $110,981\n",
       "4       Swift              $130,801"
      ]
     },
     "execution_count": 8,
     "metadata": {},
     "output_type": "execute_result"
    }
   ],
   "source": [
    "#optional: view the csv file in a data frame\n",
    "\n",
    "file= 'popular-languages.csv'\n",
    "\n",
    "import pandas as pd\n",
    "\n",
    "popular_languages = pd.read_csv(file)\n",
    "popular_languages.drop(['Unnamed: 0'], axis = 1, inplace= True)\n",
    "\n",
    "popular_languages.head()"
   ]
  },
  {
   "cell_type": "markdown",
   "metadata": {},
   "source": [
    "## Authors\n"
   ]
  },
  {
   "cell_type": "markdown",
   "metadata": {},
   "source": [
    "Ramesh Sannareddy\n"
   ]
  },
  {
   "cell_type": "markdown",
   "metadata": {},
   "source": [
    "### Other Contributors\n"
   ]
  },
  {
   "cell_type": "markdown",
   "metadata": {},
   "source": [
    "Rav Ahuja\n"
   ]
  },
  {
   "cell_type": "markdown",
   "metadata": {},
   "source": [
    "## Change Log\n"
   ]
  },
  {
   "cell_type": "markdown",
   "metadata": {},
   "source": [
    "|  Date (YYYY-MM-DD) |  Version | Changed By  |  Change Description |\n",
    "|---|---|---|---|\n",
    "| 2020-10-17  | 0.1  | Ramesh Sannareddy  |  Created initial version of the lab |\n"
   ]
  },
  {
   "cell_type": "markdown",
   "metadata": {},
   "source": [
    " Copyright &copy; 2020 IBM Corporation. This notebook and its source code are released under the terms of the [MIT License](https://cognitiveclass.ai/mit-license/?utm_medium=Exinfluencer&utm_source=Exinfluencer&utm_content=000026UJ&utm_term=10006555&utm_id=NA-SkillsNetwork-Channel-SkillsNetworkCoursesIBMDA0321ENSkillsNetwork928-2022-01-01).\n"
   ]
  }
 ],
 "metadata": {
  "kernelspec": {
   "display_name": "Python 3 (ipykernel)",
   "language": "python",
   "name": "python3"
  },
  "language_info": {
   "codemirror_mode": {
    "name": "ipython",
    "version": 3
   },
   "file_extension": ".py",
   "mimetype": "text/x-python",
   "name": "python",
   "nbconvert_exporter": "python",
   "pygments_lexer": "ipython3",
   "version": "3.9.13"
  }
 },
 "nbformat": 4,
 "nbformat_minor": 4
}
