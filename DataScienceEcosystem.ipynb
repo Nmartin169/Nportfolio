{
 "cells": [
  {
   "cell_type": "markdown",
   "id": "564a89fd-b5a8-47c9-be76-62de49fc4807",
   "metadata": {},
   "source": [
    "# Data Science Tools and Ecosystem"
   ]
  },
  {
   "cell_type": "markdown",
   "id": "5c9e7a3d-0f21-4a08-9863-2e5dd9d1a33b",
   "metadata": {},
   "source": [
    "In this notebook, Data Science Tools and Ecosystem are summarized."
   ]
  },
  {
   "cell_type": "markdown",
   "id": "ffe28f8e-b2fa-4453-bca4-9a2521064560",
   "metadata": {},
   "source": [
    "__Objectives:__\n",
    "\n",
    "- List popular languages for Data Science.\n",
    "- List commonly used libraries for Data Science.\n",
    "- List some Data Science tools.\n",
    "- Perform arithmetic expressions in Python.\n"
   ]
  },
  {
   "cell_type": "markdown",
   "id": "58f720e6-8907-420b-a80a-6799ad887811",
   "metadata": {},
   "source": [
    "Some of the popular languages that Data Scientists use are:\n",
    "1. Julia\n",
    "2. Python\n",
    "3. R\n",
    "4. Scala"
   ]
  },
  {
   "cell_type": "markdown",
   "id": "3ff3f1eb-c170-46db-b8bd-f9f7d74acf05",
   "metadata": {},
   "source": [
    "Some of the commonly used libraries used by Data Scientists include:\n",
    "\n",
    "1. Pandas\n",
    "2. Matplotlib\n",
    "3. Numpy\n",
    "4. Scikit-learn"
   ]
  },
  {
   "cell_type": "markdown",
   "id": "13fb6b2e-72b2-4c16-b4bc-e7866f04b4c8",
   "metadata": {},
   "source": [
    "|Data Science Tools|\n",
    "|------------------|\n",
    "|Jupyter lab|\n",
    "|R Studio|\n",
    "|CS Code|"
   ]
  },
  {
   "cell_type": "markdown",
   "id": "c61984e4-ba95-484b-af92-3c01bf6e7a9e",
   "metadata": {},
   "source": [
    "### Below are a few examples of evaluating arithmetic expressions in Python"
   ]
  },
  {
   "cell_type": "code",
   "execution_count": 1,
   "id": "690f3c51-19af-46f8-9c1e-4c03416df77c",
   "metadata": {
    "tags": []
   },
   "outputs": [
    {
     "data": {
      "text/plain": [
       "17"
      ]
     },
     "execution_count": 1,
     "metadata": {},
     "output_type": "execute_result"
    }
   ],
   "source": [
    "#This a simple arithmetic expression to mutiply then add integers\n",
    "(3*4)+5"
   ]
  },
  {
   "cell_type": "code",
   "execution_count": 2,
   "id": "17b01a0b-f42e-43f0-be9f-2afec0eb6766",
   "metadata": {
    "tags": []
   },
   "outputs": [
    {
     "name": "stdout",
     "output_type": "stream",
     "text": [
      "3.3333333333333335 hours\n"
     ]
    }
   ],
   "source": [
    "#This will convert 200 minutes to hours by diving by 60\n",
    "\n",
    "minutes = 200\n",
    "hours = minutes / 60    #dividing by 60\n",
    "\n",
    "print(f'{hours} hours')\n"
   ]
  },
  {
   "cell_type": "markdown",
   "id": "1113df4c-cc96-4827-917c-27af068471ab",
   "metadata": {
    "tags": []
   },
   "source": [
    "## Author\n",
    "Ikenna Daniel M. Nwankwo"
   ]
  }
 ],
 "metadata": {
  "kernelspec": {
   "display_name": "Python",
   "language": "python",
   "name": "conda-env-python-py"
  },
  "language_info": {
   "codemirror_mode": {
    "name": "ipython",
    "version": 3
   },
   "file_extension": ".py",
   "mimetype": "text/x-python",
   "name": "python",
   "nbconvert_exporter": "python",
   "pygments_lexer": "ipython3",
   "version": "3.7.12"
  }
 },
 "nbformat": 4,
 "nbformat_minor": 5
}
